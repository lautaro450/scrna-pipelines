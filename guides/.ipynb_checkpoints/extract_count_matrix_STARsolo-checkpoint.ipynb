{
 "cells": [
  {
   "cell_type": "markdown",
   "id": "11c1bf05-3623-4f0a-9880-a182a0a21691",
   "metadata": {},
   "source": [
    "# Extracting count matrix from STARsolo"
   ]
  },
  {
   "cell_type": "markdown",
   "id": "6a4ac794-24a7-4b82-a503-6700b17a28dd",
   "metadata": {},
   "source": [
    "When we use STARsolo to generate the aligned bam file, it will also be able to generate the count matrix. During this project, we are working with scRNA-seq data and we are dividing the file structure based on the sample. Example: For the dataset GSE100344 we have BJ (Day 0, D2, D8, D16+ and D16-. In each of these conditions we have 96 samples. Therefore, when we are analyzing the samples with STARsolo, as output we will have 96 folder per each condition (1 per sample). The structure will be the following:\n",
    "\n",
    "`/output/BJ_fibroblasts_{BJ|D2|D8|D16-|D16_plus}_{sampleNumber, from 1..96}_Solo.out/Gene/filtered`\n",
    "\n",
    "in this folder we will always find the file `matrix.mtx` which can be loaded with scanpy"
   ]
  },
  {
   "cell_type": "markdown",
   "id": "562acb30-980b-40e7-99fd-9e3901d6a212",
   "metadata": {},
   "source": [
    "# Bash script to compress in 1 zip file all matrix.mtx"
   ]
  },
  {
   "cell_type": "code",
   "execution_count": null,
   "id": "c41e4e82-e439-4fc5-b262-7d20824a2f8e",
   "metadata": {},
   "outputs": [],
   "source": [
    "#!/bin/bash\n",
    "\n",
    "# Set the base directory\n",
    "BASE_DIR=\"/mnt/faster/GSE100344/fastq/D8/output\" # CHANGE THIS\n",
    "\n",
    "# Set the output zip file name\n",
    "OUTPUT_ZIP=\"BJ_fibroblasts_matrices.zip\"\n",
    "\n",
    "# Create a temporary directory\n",
    "TEMP_DIR=$(mktemp -d)\n",
    "\n",
    "# Loop through all 96 samples\n",
    "for i in {1..96} # THIS WORKS ONLY FOR GSE100344 BECAUSE IT HAS THIS AMOUNT OF SAMPLES\n",
    "do\n",
    "    # Define the source directory\n",
    "    SRC_DIR=\"${BASE_DIR}/BJ_fibroblasts_8_${i}_Solo.out/Gene/filtered\"\n",
    "    \n",
    "    # Define the destination directory\n",
    "    DEST_DIR=\"${TEMP_DIR}/BJ_fibroblasts_8_${i}\"\n",
    "    \n",
    "    # Check if the source directory exists\n",
    "    if [ -d \"$SRC_DIR\" ]; then\n",
    "        # Create the destination directory\n",
    "        mkdir -p \"$DEST_DIR\"\n",
    "        \n",
    "        # Copy the matrix.mtx file if it exists\n",
    "        if [ -f \"${SRC_DIR}/matrix.mtx\" ]; then\n",
    "            cp \"${SRC_DIR}/matrix.mtx\" \"$DEST_DIR\"\n",
    "        else\n",
    "            echo \"Warning: matrix.mtx not found in ${SRC_DIR}\"\n",
    "        fi\n",
    "    else\n",
    "        echo \"Warning: Directory not found: ${SRC_DIR}\"\n",
    "    fi\n",
    "done\n",
    "\n",
    "# Create the zip file\n",
    "zip -r \"$OUTPUT_ZIP\" \"$TEMP_DIR\"/*\n",
    "\n",
    "# Clean up the temporary directory\n",
    "rm -rf \"$TEMP_DIR\"\n",
    "\n",
    "echo \"Zip file created: $OUTPUT_ZIP\""
   ]
  },
  {
   "cell_type": "markdown",
   "id": "94644bfd-20b2-46d0-93bf-aa2cae4b79e9",
   "metadata": {},
   "source": [
    "# How to upload to s3 bucket"
   ]
  },
  {
   "cell_type": "code",
   "execution_count": null,
   "id": "0850c029-bf72-4ace-9b8d-9f0f10cb8cc6",
   "metadata": {},
   "outputs": [],
   "source": [
    "aws s3 cp BJ_fibroblasts_matrices.zip s3://scgpt-dataset/"
   ]
  }
 ],
 "metadata": {
  "kernelspec": {
   "display_name": "Python 3 (ipykernel)",
   "language": "python",
   "name": "python3"
  },
  "language_info": {
   "codemirror_mode": {
    "name": "ipython",
    "version": 3
   },
   "file_extension": ".py",
   "mimetype": "text/x-python",
   "name": "python",
   "nbconvert_exporter": "python",
   "pygments_lexer": "ipython3",
   "version": "3.12.4"
  }
 },
 "nbformat": 4,
 "nbformat_minor": 5
}
