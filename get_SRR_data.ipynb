{
 "cells": [
  {
   "cell_type": "markdown",
   "id": "c2212e6c-309b-41d3-b6d7-0106f3955830",
   "metadata": {},
   "source": [
    "# Get SRR Data from NCBI\n",
    "\n",
    "**This documentation aims to help how to go from SRR ID (obtained through SRA Selector - NCBI site) to paired-end FASTQ files. The FASTQ files will then be utilized in another pipeline as input. FASTQ files are required in the nextflow scRNA-seq pipeline that will be used in the next step**\n",
    "\n",
    "## Obtaining scRNA data from NCBI\n",
    "\n",
    "when we want to obtain scRNA data from NCBI, there are different ways todo it.\n",
    "- 1. you can consume the service to deliver the data to your AWS bucket\n",
    "- 2. You can use sra-toolkit from ubuntu-server or a similar OS to download it directly in the HPC\n",
    " \n",
    "This guide will focus on utilizing (2) as there are many cons on the first approach. Just to name some:\n",
    "- We need to wait up to 48hs for NCBI to process the request\n",
    "- we do not have much information about exactly what kind of format we are downloading\n",
    "- We need to transfer (again) from AWS S3 bucket to the HPC instance where we are planning to work"
   ]
  },
  {
   "cell_type": "markdown",
   "id": "b619963b-89f0-4ca1-98a0-e7977625ff3f",
   "metadata": {},
   "source": [
    "## Install sra-toolkit\n",
    "- To make sure we are using the latest available version, we will download `sra-toolkit` from their github page: [SRA-TOOLKIT](https://github.com/ncbi/sra-tools/wiki/01.-Downloading-SRA-Toolkit).\n",
    "- Once the file has been downloaded, we will install it following this guide: [Installation guide SRA-toolkit](https://github.com/ncbi/sra-tools/wiki/02.-Installing-SRA-Toolkit)\n",
    "\n",
    "Once we have sra-toolkit installed, there are 2 ways we can obtain data files from NCBI SRA selector:\n",
    "- We can use `prefetch <SRR_ID>` and it will download the selected SRR in the current directory. **important:** The file will be downloaded in the _SRA_ format.\n",
    "- We can use `fasterq-dump <SRR_ID>` and it will not only download the file, but it will also process it to obtain the _FASTQ_ format.\n",
    "- **DO NOT USE:** It is also possible to use `fastq-dump` however after several benchmark analysis, the speed is so low that it is not recommended at all."
   ]
  },
  {
   "cell_type": "markdown",
   "id": "f3996f0f-7676-44da-a0f4-3e031cf598d3",
   "metadata": {},
   "source": [
    "## About sra-toolkit and fasterq-dump\n",
    "In case that we have paired-end reads, we need to use `--split-files` while running fasterq-dump. if the reads are single end, `--split-3` should be used instead. paired-end reads will produce as outcome two different files, `{SRR_ID}_1.fastq` and `{SRR_ID}_2.fastq`. As we could expect, single reads will produce only 1 single file as outcome. For additional documentation can be found here: [fasterq-dump Documentation](https://github.com/ncbi/sra-tools/wiki/HowTo:-fasterq-dump)\n",
    "\n",
    "## Notes\n",
    "- `-p` shows you the progress in the terminal\n",
    "- `-e` indicates how many cores you will utilize to process the file\n",
    "- `--split-files` indicates to the program that it is dealing with paired-end sequences."
   ]
  },
  {
   "cell_type": "markdown",
   "id": "610081f8-88f5-4111-a711-9fc67b441d7a",
   "metadata": {},
   "source": [
    "# Example"
   ]
  },
  {
   "cell_type": "code",
   "execution_count": 1,
   "id": "f124c500-381c-4540-8b72-97c5df412746",
   "metadata": {},
   "outputs": [
    {
     "name": "stdout",
     "output_type": "stream",
     "text": [
      "join   :|  0.0 0.0 0.0 0.0 0.0 0.0 0.0 0.0 0.0 0.0 0.1 0.1 0.1 0.1 0.1 0.1 0.1 0.1 0.1 0.1 0.2 0.2 0.2 0.2 0.2 0.2 0.2 0.2 0.2 0.2 0.3 0.3 0.3 0.3 0.3 0.3 0.3 0.3 0.3 0.3 0.4 0.4 0.4 0.4 0.4 0.4 0.4 0.4 0.4 0.4 0.5 0.5 0.5 0.5 0.5 0.5 0.5 0.5 0.5 0.5 0.6 0.6 0.6 0.6 0.6 0.6 0.6 0.6 0.6 0.6 0.7 0.7 0.7 0.7 0.7 0.7 0.7 0.7 0.7 0.7 0.8 0.8 0.8 0.8 0.8 0.8 0.8 0.8 0.8 0.8 0.9 0.9 0.9 0.9 0.9 0.9 0.9 0.9 0.9 0.99-  1.0 1.0 1.0 1.0 1.0 1.0 1.0 1.0 1.0 1.0 1.1 1.1 1.1 1.1 1.1 1.1 1.1 1.1 1.1 1.1 1.2 1.2 1.2 1.2 1.2 1.2 1.2 1.2 1.2 1.2 1.3 1.3 1.3 1.3 1.3 1.3 1.3 1.3 1.3 1.3 1.4 1.4 1.4 1.4 1.4 1.4 1.4 1.4 1.4 1.4 1.5 1.5 1.5 1.5 1.5 1.5 1.5 1.5 1.5 1.5 1.6 1.6 1.6 1.6 1.6 1.6 1.6 1.6 1.6 1.6 1.7 1.7 1.7 1.7 1.7 1.7 1.7 1.7 1.7 1.7 1.8 1.8 1.8 1.8 1.8 1.8 1.8 1.8 1.8 1.8 1.9 1.9 1.9 1.9 1.9 1.9 1.9 1.9 1.9 1.9 2.0 2.0 2.0 2.0 2.0 2.0 2.0 2.0 2.0 2.0 2.1 2.1 2.1 2.1 2.1 2.1 2.1 2.1 2.1 2.1 2.2 2.2 2.2 2.2 2.2 2.2 2.2 2.2 2.2 2.2 2.3 2.3 2.3 2.3 2.3 2.3 2.3 2.3 2.3 2.3 2.4 2.4 2.4 2.4 2.4 2.4 2.4 2.4 2.4 2.4 2.5 2.5 2.5 2.5 2.5 2.5 2.5 2.5 2.5 2.5 2.6 2.6 2.6 2.6 2.6 2.6 2.6 2.6 2.6 2.6 2.7 2.7 2.7 2.7 2.7 2.7 2.7 2.7 2.7 2.7 2.8 2.8 2.8 2.8 2.8 2.8 2.8 2.8 2.8 2.8 2.9 2.9 2.9 2.9 2.9 2.9 2.9 2.9 2.9 2.99-  3.0 3.0 3.0 3.0 3.0 3.0 3.0 3.0 3.0 3.0 3.1 3.1 3.1 3.1 3.1 3.1 3.1 3.1 3.1 3.1 3.2 3.2 3.2 3.2 3.2 3.2 3.2 3.2 3.2 3.2 3.3 3.3 3.3 3.3 3.3 3.3 3.3 3.3 3.3 3.3 3.4 3.4 3.4 3.4 3.4 3.4 3.4 3.4 3.4 3.4 3.5 3.5 3.5 3.5 3.5 3.5 3.5 3.5 3.5 3.5 3.6 3.6 3.6 3.6 3.6 3.6 3.6 3.6 3.6 3.6 3.7 3.7 3.7 3.7 3.7 3.7 3.7 3.7 3.7 3.7 3.8 3.8 3.8 3.8 3.8 3.8 3.8 3.8 3.8 3.8 3.9 3.9 3.9 3.9 3.9 3.9 3.9 3.9 3.9 3.9 4.0 4.0 4.0 4.0 4.0 4.0 4.0 4.0 4.0 4.0 4.1 4.1 4.1 4.1 4.1 4.1 4.1 4.1 4.1 4.1 4.2 4.2 4.2 4.2 4.2 4.2 4.2 4.2 4.2 4.2 4.3 4.3 4.3 4.3 4.3 4.3 4.3 4.3 4.3 4.3 4.4 4.4 4.4 4.4 4.4 4.4 4.4 4.4 4.4 4.4 4.5 4.5 4.5 4.5 4.5 4.5 4.5 4.5 4.5 4.5 4.6 4.6 4.6 4.6 4.6 4.6 4.6 4.6 4.6 4.6 4.7 4.7 4.7 4.7 4.7 4.7 4.7 4.7 4.7 4.7 4.8 4.8 4.8 4.8 4.8 4.8 4.8 4.8 4.8 4.8 4.9 4.9 4.9 4.9 4.9 4.9 4.9 4.9 4.9 4.99-  5.0 5.0 5.0 5.0 5.0 5.0 5.0 5.0 5.0 5.0 5.1 5.1 5.1 5.1 5.1 5.1 5.1 5.1 5.1 5.1 5.2 5.2 5.2 5.2 5.2 5.2 5.2 5.2 5.2 5.2 5.3 5.3 5.3 5.3 5.3 5.3 5.3 5.3 5.3 5.3 5.4 5.4 5.4 5.4 5.4 5.4 5.4 5.4 5.4 5.4 5.5 5.5 5.5 5.5 5.5 5.5 5.5 5.5 5.5 5.5 5.6 5.6 5.6 5.6 5.6 5.6 5.6 5.6 5.6 5.6 5.7 5.7 5.7 5.7 5.7 5.7 5.7 5.7 5.7 5.7 5.8 5.8 5.8 5.8 5.8 5.8 5.8 5.8 5.8 5.8 5.9 5.9 5.9 5.9 5.9 5.9 5.9 5.9 5.9 5.9 6.0 6.0 6.0 6.0 6.0 6.0 6.0 6.0 6.0 6.0 6.1 6.1 6.1 6.1 6.1 6.1 6.1 6.1 6.1 6.1 6.2 6.2 6.2 6.2 6.2 6.2 6.2 6.2 6.2 6.2 6.3 6.3 6.3 6.3 6.3 6.3 6.3 6.3 6.3 6.3 6.4 6.4 6.4 6.4 6.4 6.4 6.4 6.4 6.4 6.4 6.5 6.5 6.5 6.5 6.5 6.5 6.5 6.5 6.5 6.5 6.6 6.6 6.6 6.6 6.6 6.6 6.6 6.6 6.6 6.6 6.7 6.7 6.7 6.7 6.7 6.7 6.7 6.7 6.7 6.7 6.8 6.8 6.8 6.8 6.8 6.8 6.8 6.8 6.8 6.8 6.9 6.9 6.9 6.9 6.9 6.9 6.9 6.9 6.9 6.99-  7.0 7.0 7.0 7.0 7.0 7.0 7.0 7.0 7.0 7.0 7.1 7.1 7.1 7.1 7.1 7.1 7.1 7.1 7.1 7.1 7.2 7.2 7.2 7.2 7.2 7.2 7.2 7.2 7.2 7.2 7.3 7.3 7.3 7.3 7.3 7.3 7.3 7.3 7.3 7.3 7.4 7.4 7.4 7.4 7.4 7.4 7.4 7.4 7.4 7.4 7.5 7.5 7.5 7.5 7.5 7.5 7.5 7.5 7.5 7.5 7.6 7.6 7.6 7.6 7.6 7.6 7.6 7.6 7.6 7.6 7.7 7.7 7.7 7.7 7.7 7.7 7.7 7.7 7.7 7.7 7.8 7.8 7.8 7.8 7.8 7.8 7.8 7.8 7.8 7.8 7.9 7.9 7.9 7.9 7.9 7.9 7.9 7.9 7.9 7.9 8.0 8.0 8.0 8.0 8.0 8.0 8.0 8.0 8.0 8.0 8.1 8.1 8.1 8.1 8.1 8.1 8.1 8.1 8.1 8.1 8.2 8.2 8.2 8.2 8.2 8.2 8.2 8.2 8.2 8.2 8.3 8.3 8.3 8.3 8.3 8.3 8.3 8.3 8.3 8.3 8.4 8.4 8.4 8.4 8.4 8.4 8.4 8.4 8.4 8.4 8.5 8.5 8.5 8.5 8.5 8.5 8.5 8.5 8.5 8.5 8.6 8.6 8.6 8.6 8.6 8.6 8.6 8.6 8.6 8.6 8.7 8.7 8.7 8.7 8.7 8.7 8.7 8.7 8.7 8.7 8.8 8.8 8.8 8.8 8.8 8.8 8.8 8.8 8.8 8.8 8.9 8.9 8.9 8.9 8.9 8.9 8.9 8.9 8.9 8.99-  9.0 9.0 9.0 9.0 9.0 9.0 9.0 9.0 9.0 9.0 9.1 9.1 9.1 9.1 9.1 9.1 9.1 9.1 9.1 9.1 9.2 9.2 9.2 9.2 9.2 9.2 9.2 9.2 9.2 9.2 9.3 9.3 9.3 9.3 9.3 9.3 9.3 9.3 9.3 9.3 9.4 9.4 9.4 9.4 9.4 9.4 9.4 9.4 9.4 9.4 9.5 9.5 9.5 9.5 9.5 9.5 9.5 9.5 9.5 9.5 9.6 9.6 9.6 9.6 9.6 9.6 9.6 9.6 9.6 9.6 9.7 9.7 9.7 9.7 9.7 9.7 9.7 9.7 9.7 9.7 9.8 9.8 9.8 9.8 9.8 9.8 9.8 9.8 9.8 9.8 9.9 9.9 9.9 9.9 9.9 9.9 9.9 9.9 9.9 9.910.010.010.010.010.010.010.010.010.010.010.110.110.110.110.110.110.110.110.110.110.210.210.210.210.210.210.210.210.210.210.310.310.310.310.310.310.310.310.310.310.410.410.410.410.410.410.410.410.410.410.510.510.510.510.510.510.510.510.510.510.610.610.610.610.610.610.610.610.610.610.710.710.710.710.710.710.710.710.710.710.810.810.810.810.810.810.810.810.810.810.910.910.910.910.910.910.910.910.910.99- 11.011.011.011.011.011.011.011.011.011.011.111.111.111.111.111.111.111.111.111.111.211.211.211.211.211.211.211.211.211.211.311.311.311.33%^C\n"
     ]
    }
   ],
   "source": [
    "!fasterq-dump --split-files SRR5739553 -e 10 -p"
   ]
  },
  {
   "cell_type": "markdown",
   "id": "573c0060-c730-483c-8b16-f115ca92554a",
   "metadata": {},
   "source": [
    "# How to get many SRA files at once\n",
    "As we are working with scRNA, it is common to download many files from SRA Selector. In order to do it programatically we will continue with the following steps:\n",
    "-  We need to create a file called `script.sh` that will check a list of {SRR_ID} from another file called `SRR_acc_list.txt` and it will download from SRA one by one.\n",
    "-  We need to create `SRR_acc_list.txt` with the list of SRR IDs we are interested to download "
   ]
  },
  {
   "cell_type": "code",
   "execution_count": 1,
   "id": "f7bff3d8-9273-4347-91d3-4473480f3a55",
   "metadata": {},
   "outputs": [],
   "source": [
    "%%bash\n",
    "cat << 'EOF' > script.sh\n",
    "#!/bin/bash\n",
    "while read accession; do\n",
    "  fasterq-dump $accession -O /mnt/faster/results/ --split-files --threads 16 -p\n",
    "done < SRR_acc_list.txt\n",
    "EOF"
   ]
  },
  {
   "cell_type": "code",
   "execution_count": 2,
   "id": "51b0124f-9784-4591-a605-0fcb83b55cb1",
   "metadata": {},
   "outputs": [
    {
     "name": "stdout",
     "output_type": "stream",
     "text": [
      "#!/bin/bash\n",
      "while read accession; do\n",
      "  fasterq-dump $accession -O /mnt/faster/results/ --split-files --threads 16 -p\n",
      "done < SRR_acc_list.txt\n"
     ]
    }
   ],
   "source": [
    "cat script.sh"
   ]
  },
  {
   "cell_type": "code",
   "execution_count": 7,
   "id": "c3b9a748-f16c-4010-8846-86b418bb9a5a",
   "metadata": {},
   "outputs": [],
   "source": [
    "%%bash\n",
    "cat << 'EOF' > SRR_acc_list.txt\n",
    "SRR5739552\n",
    "SRR5739553\n",
    "SRR5739554\n",
    "SRR5739555\n",
    "\n",
    "EOF"
   ]
  },
  {
   "cell_type": "markdown",
   "id": "3563043a-d251-4a0a-96cc-30c6e614de52",
   "metadata": {},
   "source": [
    "**Note:** always make sure you have an empty line at the end, otherwise the last SRR will not be downloaded"
   ]
  },
  {
   "cell_type": "code",
   "execution_count": 8,
   "id": "e6874380-5821-4a67-88fe-bd687b62b51c",
   "metadata": {},
   "outputs": [
    {
     "name": "stdout",
     "output_type": "stream",
     "text": [
      "SRR5739552\n",
      "SRR5739553\n",
      "SRR5739554\n",
      "SRR5739555\n"
     ]
    }
   ],
   "source": [
    "cat SRR_acc_list.txt"
   ]
  }
 ],
 "metadata": {
  "kernelspec": {
   "display_name": "Python 3 (ipykernel)",
   "language": "python",
   "name": "python3"
  },
  "language_info": {
   "codemirror_mode": {
    "name": "ipython",
    "version": 3
   },
   "file_extension": ".py",
   "mimetype": "text/x-python",
   "name": "python",
   "nbconvert_exporter": "python",
   "pygments_lexer": "ipython3",
   "version": "3.9.19"
  }
 },
 "nbformat": 4,
 "nbformat_minor": 5
}
