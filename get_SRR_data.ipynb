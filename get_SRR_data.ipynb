{
 "cells": [
  {
   "cell_type": "markdown",
   "id": "c2212e6c-309b-41d3-b6d7-0106f3955830",
   "metadata": {},
   "source": [
    "# Get SRR Data from NCBI\n",
    "\n",
    "**This documentation will go from having SRR ID from NCBI\n",
    "\n",
    "when we want to obtain scRNA data from NCBI, there are different ways todo it.\n",
    "- 1. you can consume the service to deliver the data to your AWS bucket\n",
    "- 2. You can use sra-toolkit from ubuntu-server or a similar OS to download it directly in the HPC\n",
    " \n",
    "This guide will focus on utilizing (2) as there are many cons on the first approach. Just to name some:\n",
    "- We need to wait up to 48hs for NCBI to process the request\n",
    "- we do not have much information about exactly what kind of format we are downloading\n",
    "- We need to transfer (again) from AWS S3 bucket to the HPC instance where we are planning to work"
   ]
  },
  {
   "cell_type": "markdown",
   "id": "b619963b-89f0-4ca1-98a0-e7977625ff3f",
   "metadata": {},
   "source": [
    "# Install sra-toolkit\n",
    "- To make sure we are using the latest available version, we will download `sra-toolkit` from their github page: [SRA-TOOLKIT](https://github.com/ncbi/sra-tools/wiki/01.-Downloading-SRA-Toolkit).\n",
    "- Once the file has been downloaded, we will install it following this guide: [Installation guide SRA-toolkit](https://github.com/ncbi/sra-tools/wiki/02.-Installing-SRA-Toolkit)\n",
    "\n",
    "Once we have sra-toolkit installed, there are 2 ways we can obtain data files from NCBI SRA selector:\n",
    "- We can use `prefetch <SRR_ID>` and it will download the selected SRR in the current directory. **important:** The file will be downloaded in the _SRA_ format.\n",
    "- We can use `fasterq-dump <SRR_ID>` and it will not only download the file, but it will also process it to obtain the _FASTQ_ format.\n",
    "- **DO NOT USE:** It is also possible to use `fastq-dump` however after several benchmark analysis, the speed is so low that it is not recommended at all."
   ]
  },
  {
   "cell_type": "markdown",
   "id": "f3996f0f-7676-44da-a0f4-3e031cf598d3",
   "metadata": {},
   "source": [
    "# About sra-toolkit and fasterq-dump\n",
    "In case that we have paired-end reads, we need to use `--split-files` while running fasterq-dump. if the reads are single end, `--split-3` should be used instead. paired-end reads will produce as outcome two different files, `{SRR_ID}_1.fastq` and `{SRR_ID}_2.fastq`. As we could expect, single reads will produce only 1 single file as outcome. For additional documentation can be found here: [fasterq-dump Documentation](https://github.com/ncbi/sra-tools/wiki/HowTo:-fasterq-dump)\n",
    "\n",
    "## Notes\n",
    "- `-p` shows you the progress in the terminal\n",
    "- `-e` indicates how many cores you will utilize to process the file\n",
    "- `--split-files` indicates to the program that it is dealing with paired-end sequences."
   ]
  },
  {
   "cell_type": "markdown",
   "id": "610081f8-88f5-4111-a711-9fc67b441d7a",
   "metadata": {},
   "source": [
    "# Example"
   ]
  },
  {
   "cell_type": "code",
   "execution_count": 4,
   "id": "f124c500-381c-4540-8b72-97c5df412746",
   "metadata": {},
   "outputs": [
    {
     "name": "stdout",
     "output_type": "stream",
     "text": [
      "/bin/bash: line 1: fasterq-dump: command not found\n"
     ]
    }
   ],
   "source": [
    "!fasterq-dump --split-files SRR5739553 -e 10 -p"
   ]
  }
 ],
 "metadata": {
  "kernelspec": {
   "display_name": "Python 3 (ipykernel)",
   "language": "python",
   "name": "python3"
  },
  "language_info": {
   "codemirror_mode": {
    "name": "ipython",
    "version": 3
   },
   "file_extension": ".py",
   "mimetype": "text/x-python",
   "name": "python",
   "nbconvert_exporter": "python",
   "pygments_lexer": "ipython3",
   "version": "3.9.19"
  }
 },
 "nbformat": 4,
 "nbformat_minor": 5
}
