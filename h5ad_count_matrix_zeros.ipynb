{
 "cells": [
  {
   "cell_type": "code",
   "execution_count": null,
   "id": "ca2a5ab5-01b6-4292-af14-2a97291f9ac1",
   "metadata": {},
   "outputs": [],
   "source": [
    "import h5py\n",
    "import anndata as ad\n",
    "import pandas as pd\n",
    "import numpy as np\n",
    "\n",
    "# Replace 'your_file.h5ad' with the path to your .h5ad file\n",
    "file_path = '../star/mtx_conversions/combined_filtered_matrix.h5ad'\n",
    "def print_attrs(name, obj):\n",
    "    if isinstance(obj, h5py.Dataset):\n",
    "        print(f\"{name}: {obj.shape} {obj.dtype}\")\n",
    "\n",
    "# Open the .h5ad file\n",
    "with h5py.File(file_path, 'r') as f:\n",
    "    # Print the root groups\n",
    "    print(\"Root groups:\")\n",
    "    for group in f.keys():\n",
    "        print(group)\n",
    "    \n",
    "    # Explore group 'X'\n",
    "    if 'X' in f.keys():\n",
    "        print(\"\\nDatasets in group 'X':\")\n",
    "        for dataset in f['X'].keys():\n",
    "            print(dataset)\n",
    "            print(f['X'][dataset].shape)\n",
    "            print(f['X'][dataset].dtype)\n",
    "            # Uncomment the next line if you want to see the actual data (may be large)\n",
    "            # print(f['X'][dataset][:])\n",
    "\n",
    "    # Explore group 'obs'\n",
    "    if 'obs' in f.keys():\n",
    "        print(\"\\nDatasets in group 'obs':\")\n",
    "        f['obs'].visititems(print_attrs)\n",
    "    \n",
    "    # Explore group 'var'\n",
    "    if 'var' in f.keys():\n",
    "        print(\"\\nDatasets in group 'var':\")\n",
    "        f['var'].visititems(print_attrs)\n",
    "\n",
    "    # If you want to see the actual data, you can retrieve it like this\n",
    "    # For example, for 'obs' dataset\n",
    "    if 'obs' in f.keys():\n",
    "        obs_data = {}\n",
    "        for name in f['obs'].keys():\n",
    "            if isinstance(f['obs'][name], h5py.Dataset):\n",
    "                obs_data[name] = f['obs'][name][:]\n",
    "        print(\"\\nData in 'obs' group:\")\n",
    "        for key, value in obs_data.items():\n",
    "            print(f\"{key}: {value[:10]}\")  # Print the first 10 elements\n",
    "\n",
    "    # Similarly, for 'var' dataset\n",
    "    if 'var' in f.keys():\n",
    "        var_data = {}\n",
    "        for name in f['var'].keys():\n",
    "            if isinstance(f['var'][name], h5py.Dataset):\n",
    "                var_data[name] = f['var'][name][:]\n",
    "        print(\"\\nData in 'var' group:\")\n",
    "        for key, value in var_data.items():\n",
    "            print(f\"{key}: {value[:10]}\") "
   ]
  },
  {
   "cell_type": "code",
   "execution_count": null,
   "id": "b52b1728-952e-4fa1-94b6-fbbbe880e936",
   "metadata": {},
   "outputs": [],
   "source": [
    "#file_path = '../star/mtx_conversions/combined_filtered_matrix.h5ad'\n",
    "file_path = 'filtered_ms_adata.h5ad'\n",
    "\n",
    "# Load the .h5ad file\n",
    "adata = ad.read_h5ad(file_path)\n",
    "\n",
    "# Convert the count matrix to a pandas DataFrame\n",
    "count_matrix = adata.to_df()\n",
    "\n",
    "# Count the number of zeros in the count matrix\n",
    "num_zeros = (count_matrix == 0).sum().sum()\n",
    "\n",
    "\n",
    "# Count the number of zeros in the count matrix\n",
    "num_zeros = (count_matrix == 0).sum().sum()\n",
    "\n",
    "# Get the total number of elements in the count matrix\n",
    "total_elements = count_matrix.size\n",
    "\n",
    "\n",
    "print(f\"Number of zeros in the count matrix: {num_zeros}\")\n",
    "print(f\"Total number of elements in the count matrix: {total_elements}\")\n",
    "print(f\"Percentage of zeros in the count matrix: {num_zeros / total_elements * 100:.2f}%\")\n",
    "\n",
    "count_matrix"
   ]
  },
  {
   "cell_type": "markdown",
   "id": "d16cfdb4-18e3-47e8-add4-d48bf499ec4a",
   "metadata": {},
   "source": [
    "# Load h5ad data using scanpy\n",
    "- we write the name of the h5ad file in `file_path` variable\n",
    "- There are three main dataframes in this h5ad file\n",
    "    - obs\n",
    "    - var\n",
    "    - keys"
   ]
  },
  {
   "cell_type": "code",
   "execution_count": null,
   "id": "25274996-94c0-4fee-8809-436dbe8976dc",
   "metadata": {},
   "outputs": [],
   "source": [
    "import scanpy as sc\n",
    "\n",
    "# Load the .h5ad file\n",
    "file_path = '../star/mtx_conversions/combined_filtered_matrix.h5ad'\n",
    "#file_path ='filtered_ms_adata.h5ad'\n",
    "#file_path = 'Kim2020_Lung.h5ad'\n",
    "adata = sc.read_h5ad(file_path)"
   ]
  },
  {
   "cell_type": "markdown",
   "id": "78cff99f-5c67-405f-aecd-f32e3523c87d",
   "metadata": {},
   "source": [
    "## Visualize all columns contained on these dataframes"
   ]
  },
  {
   "cell_type": "code",
   "execution_count": null,
   "id": "d97a1196-7328-4358-a0c8-d91eb94f2bca",
   "metadata": {},
   "outputs": [],
   "source": [
    "\n",
    "obs_columns = adata.obs.columns.tolist()\n",
    "print(\"Columns in obs:\")\n",
    "print(obs_columns)\n",
    "\n",
    "# List all column names in the var dataframe\n",
    "var_columns = adata.var.columns.tolist()\n",
    "print(\"\\nColumns in var:\")\n",
    "print(var_columns)\n",
    "\n",
    "# List all keys in the obsm dataframe\n",
    "obsm_keys = adata.obsm.keys()\n",
    "print(\"\\nKeys in obsm:\")\n",
    "print(obsm_keys)"
   ]
  },
  {
   "cell_type": "markdown",
   "id": "959a2534-3a59-4b01-92e3-28f92c266602",
   "metadata": {},
   "source": [
    "## Add new column to dataframe using Scanpy\n",
    "- we want to add the column `celltype` to the dataframe `obs`"
   ]
  },
  {
   "cell_type": "code",
   "execution_count": null,
   "id": "bacbcdde-0dbc-4c1e-a26c-6dd0da5c8fdb",
   "metadata": {},
   "outputs": [],
   "source": [
    "import scanpy as sc\n",
    "import pandas as pd\n",
    "import numpy as np\n",
    "\n",
    "# Load the .h5ad file\n",
    "file_path = 'Kim2020_Lung.h5d'\n",
    "adata = sc.read_h5ad(file_path)\n",
    "[NaN,NaN,NaN...]\n",
    "nan_values = pd.Series([np.nan] * adata.n_obs, index=adata.obs.index)\n",
    "\n",
    "# Add the NaN Series to the obs dataframe as a new column 'celltype'\n",
    "adata.obs['celltype'] = nan_values\n",
    "adata.write(file_path)"
   ]
  },
  {
   "cell_type": "code",
   "execution_count": 3,
   "id": "7d4e1015-b24f-4f51-9e37-5298eb7c9349",
   "metadata": {},
   "outputs": [
    {
     "name": "stdout",
     "output_type": "stream",
     "text": [
      "Columns in obs:\n",
      "['sample', 'source', 'cell_type', 'subclone', 'complexity']\n",
      "\n",
      "Columns in var:\n",
      "['gene_name']\n",
      "\n",
      "Keys in obsm:\n",
      "KeysView(AxisArrays with keys: )\n"
     ]
    },
    {
     "data": {
      "text/plain": [
       "cell_name\n",
       "AAACCTGAGACGACGT_LUNG_T34        B_cell\n",
       "AAACCTGAGACTGTAA_LUNG_T34     Malignant\n",
       "AAACCTGAGATGTCGG_LUNG_T31    Epithelial\n",
       "AAACCTGAGCCAGGAT_EBUS_28      Malignant\n",
       "AAACCTGAGCGCTTAT_LUNG_T19    Macrophage\n",
       "                                ...    \n",
       "TTTGTCATCGGTGTTA_LUNG_T28           NaN\n",
       "TTTGTCATCTGGGCCA_EBUS_06            NaN\n",
       "TTTGTCATCTTACCGC_EBUS_49         T_cell\n",
       "TTTGTCATCTTGCCGT_LUNG_T30     Malignant\n",
       "TTTGTCATCTTTAGGG_LUNG_T31     Malignant\n",
       "Name: cell_type, Length: 32493, dtype: category\n",
       "Categories (10, object): ['B_cell', 'Dendritic', 'Endothelial', 'Epithelial', ..., 'Malignant', 'Mast', 'NK_cell', 'T_cell']"
      ]
     },
     "execution_count": 3,
     "metadata": {},
     "output_type": "execute_result"
    }
   ],
   "source": [
    "import scanpy as sc\n",
    "import pandas as pd\n",
    "import numpy as np\n",
    "\n",
    "# Load the .h5ad file\n",
    "file_path = 'Kim2020_Lung.h5ad'\n",
    "adata = sc.read_h5ad(file_path)\n",
    "\n",
    "\n",
    "obs_columns = adata.obs.columns.tolist()\n",
    "print(\"Columns in obs:\")\n",
    "print(obs_columns)\n",
    "\n",
    "# List all column names in the var dataframe\n",
    "var_columns = adata.var.columns.tolist()\n",
    "print(\"\\nColumns in var:\")\n",
    "print(var_columns)\n",
    "\n",
    "# List all keys in the obsm dataframe\n",
    "obsm_keys = adata.obsm.keys()\n",
    "print(\"\\nKeys in obsm:\")\n",
    "print(obsm_keys)\n",
    "\n",
    "adata.obs['cell_type']"
   ]
  }
 ],
 "metadata": {
  "kernelspec": {
   "display_name": "Python 3 (ipykernel)",
   "language": "python",
   "name": "python3"
  },
  "language_info": {
   "codemirror_mode": {
    "name": "ipython",
    "version": 3
   },
   "file_extension": ".py",
   "mimetype": "text/x-python",
   "name": "python",
   "nbconvert_exporter": "python",
   "pygments_lexer": "ipython3",
   "version": "3.9.19"
  }
 },
 "nbformat": 4,
 "nbformat_minor": 5
}
