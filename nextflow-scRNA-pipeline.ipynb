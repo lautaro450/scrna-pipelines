{
 "cells": [
  {
   "cell_type": "markdown",
   "id": "0fb566a0-ecff-4e54-9b1b-ad0d25d6b75b",
   "metadata": {},
   "source": [
    "# Nextflow scRNA-seq pipeline\n",
    "\n",
    "## Considerations\n",
    "- every time it is possible, we should use `-profile docker` as it allows us to isolate the environment and avoid unexpected behaviors related to it\n",
    "- utilize—-genome GRCh38 instead of—-fasta and—-gtf, as this has led to different unexpected issues during the alignment process in the past.\n",
    "- there are several aligners available. for the purpose of the MSc Final project, we decided to use `STARsolo`\n",
    "- It is important to know how your experiment was conducted and your data has been obtained. The scRNA-seq pipeline in nextflow has been optimized for 10x. However it is possible to use scRNA-seq data coming from different protocols, for example SmartSeq. In order to do it will require additional steps, for example it will not be necessary to remove UMIs and empty cell drops."
   ]
  },
  {
   "cell_type": "markdown",
   "id": "1c3cc014-668a-4857-85c6-7b4e2ef3d804",
   "metadata": {},
   "source": [
    "## Example for scRNA-seq (no 10x)"
   ]
  },
  {
   "cell_type": "markdown",
   "id": "ca7c7e65-4ace-452e-a237-9a34c505c3cf",
   "metadata": {},
   "source": [
    "### Update nextflow pipeline for SmartSeq protocol\n",
    "Here, it will be very important to determine what aligner you are using. For example, if we want to use STARsolo, we are required to add an additional parameter when executing it to indicate we are not filtering UMIs.\n",
    "\n",
    "### Step-by-step how to update STARsolo params in NextFlow\n",
    "1. git pull the `nf-core/scRNA-seq-pipeline`: [nf-core/scrna-seq Github Repo](https://github.com/nf-core/scrnaseq)\n",
    "2. Open with a text editor `conf/modules.config` (Example: Nano in ubuntu server)\n",
    "3. you will find the following code:\n",
    "```\n",
    "if (params.aligner == \"star\") {\n",
    "    process {\n",
    "        withName: STAR_ALIGN {\n",
    "            ext.args = \"--readFilesCommand zcat --runDirPerm All_RWX --outWigType bedGraph --twopassMode Basic --outSAMtype BAM SortedByCoordinate\n",
    "        }\n",
    "```\n",
    "4. Add at the end of the `ext.args` the following parameter: `--soloUMIdedup NoDedup`. The result should be like this:\n",
    "\n",
    "```\n",
    "if (params.aligner == \"star\") {\n",
    "    process {\n",
    "        withName: STAR_ALIGN {\n",
    "            ext.args = \"--readFilesCommand zcat --runDirPerm All_RWX --outWigType bedGraph --twopassMode Basic --outSAMtype BAM SortedByCoordinate --soloUMIdedup NoDedup\n",
    "        }\n",
    "```\n",
    "\n",
    "**Notes:** Remember, as you are now locally modifying the repository, you will need to run the local copy of the pipeline and not the one in the cloud."
   ]
  },
  {
   "cell_type": "code",
   "execution_count": null,
   "id": "754dc4b7-090a-4851-a8e1-a9602a4b0747",
   "metadata": {},
   "outputs": [],
   "source": [
    "nextflow run ./scrnaseq -profile docker --input samplesheet.csv --genome GRCh38 --protocol SmartSeq --aligner star --outdir ./output/  --skip_emptydrops"
   ]
  },
  {
   "cell_type": "markdown",
   "id": "772419e4-9377-401d-b4b1-9d426a490d8e",
   "metadata": {},
   "source": [
    "## Example for 10x scRNA-seq"
   ]
  },
  {
   "cell_type": "code",
   "execution_count": null,
   "id": "94229900-2833-46cf-80e8-ecedb6f3053d",
   "metadata": {},
   "outputs": [],
   "source": [
    "!nextflow run nf-core/scrnaseq -profile docker --input samplesheet.csv --genome GRCh38 --protocol SmartSeq --aligner star --outdir ./output/"
   ]
  },
  {
   "cell_type": "code",
   "execution_count": null,
   "id": "65b4f870-a6ac-497f-a3ad-0f9840937ea9",
   "metadata": {},
   "outputs": [],
   "source": []
  },
  {
   "cell_type": "code",
   "execution_count": null,
   "id": "cbc57716-d2cc-4ddc-95ee-c3fc4079c707",
   "metadata": {},
   "outputs": [],
   "source": []
  },
  {
   "cell_type": "code",
   "execution_count": null,
   "id": "ea8e1de1-85c6-4429-9b6e-c0e606122304",
   "metadata": {},
   "outputs": [],
   "source": []
  }
 ],
 "metadata": {
  "kernelspec": {
   "display_name": "Python 3 (ipykernel)",
   "language": "python",
   "name": "python3"
  },
  "language_info": {
   "codemirror_mode": {
    "name": "ipython",
    "version": 3
   },
   "file_extension": ".py",
   "mimetype": "text/x-python",
   "name": "python",
   "nbconvert_exporter": "python",
   "pygments_lexer": "ipython3",
   "version": "3.12.4"
  }
 },
 "nbformat": 4,
 "nbformat_minor": 5
}
