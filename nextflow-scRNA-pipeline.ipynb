{
 "cells": [
  {
   "cell_type": "markdown",
   "id": "0fb566a0-ecff-4e54-9b1b-ad0d25d6b75b",
   "metadata": {},
   "source": [
    "# Considerations\n",
    "- every time it is possible, we should use `-profile docker` as it allow us to isolate the environment and avoid unexpected behaviors related to it\n",
    "- utilize --genome GRCh38 instead of --fasta and --gtf as this as led to different unexpected issues during the alignment process in the past.\n",
    "- there are a several aligners available. for the purpose of the MSc Final project we decided to use `STARsolo`"
   ]
  },
  {
   "cell_type": "code",
   "execution_count": 1,
   "id": "91d59cc3-e475-4a9a-a406-73108cc9af9e",
   "metadata": {},
   "outputs": [
    {
     "name": "stdout",
     "output_type": "stream",
     "text": [
      "/bin/bash: line 1: nextflow: command not found\n"
     ]
    }
   ],
   "source": [
    "!nextflow run nf-core/scrnaseq -profile docker --input samplesheet.csv --genome GRCh38 --protocol SmartSeq --aligner star --outdir ./output/"
   ]
  },
  {
   "cell_type": "code",
   "execution_count": null,
   "id": "94229900-2833-46cf-80e8-ecedb6f3053d",
   "metadata": {},
   "outputs": [],
   "source": []
  },
  {
   "cell_type": "code",
   "execution_count": null,
   "id": "65b4f870-a6ac-497f-a3ad-0f9840937ea9",
   "metadata": {},
   "outputs": [],
   "source": []
  },
  {
   "cell_type": "code",
   "execution_count": null,
   "id": "cbc57716-d2cc-4ddc-95ee-c3fc4079c707",
   "metadata": {},
   "outputs": [],
   "source": []
  },
  {
   "cell_type": "code",
   "execution_count": null,
   "id": "ea8e1de1-85c6-4429-9b6e-c0e606122304",
   "metadata": {},
   "outputs": [],
   "source": []
  }
 ],
 "metadata": {
  "kernelspec": {
   "display_name": "Python 3 (ipykernel)",
   "language": "python",
   "name": "python3"
  },
  "language_info": {
   "codemirror_mode": {
    "name": "ipython",
    "version": 3
   },
   "file_extension": ".py",
   "mimetype": "text/x-python",
   "name": "python",
   "nbconvert_exporter": "python",
   "pygments_lexer": "ipython3",
   "version": "3.9.19"
  }
 },
 "nbformat": 4,
 "nbformat_minor": 5
}
